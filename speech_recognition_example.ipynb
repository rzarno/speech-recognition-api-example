{
 "cells": [
  {
   "cell_type": "code",
   "execution_count": 1,
   "metadata": {},
   "outputs": [
    {
     "name": "stdout",
     "output_type": "stream",
     "text": [
      "Requirement already satisfied: SpeechRecognition in /home/michal/anaconda3/lib/python3.9/site-packages (3.10.0)\n",
      "Requirement already satisfied: requests>=2.26.0 in /home/michal/anaconda3/lib/python3.9/site-packages (from SpeechRecognition) (2.27.1)\n",
      "Requirement already satisfied: urllib3<1.27,>=1.21.1 in /home/michal/anaconda3/lib/python3.9/site-packages (from requests>=2.26.0->SpeechRecognition) (1.26.9)\n",
      "Requirement already satisfied: idna<4,>=2.5 in /home/michal/anaconda3/lib/python3.9/site-packages (from requests>=2.26.0->SpeechRecognition) (3.3)\n",
      "Requirement already satisfied: certifi>=2017.4.17 in /home/michal/anaconda3/lib/python3.9/site-packages (from requests>=2.26.0->SpeechRecognition) (2021.10.8)\n",
      "Requirement already satisfied: charset-normalizer~=2.0.0 in /home/michal/anaconda3/lib/python3.9/site-packages (from requests>=2.26.0->SpeechRecognition) (2.0.4)\n",
      "Requirement already satisfied: sounddevice in /home/michal/anaconda3/lib/python3.9/site-packages (0.4.6)\n",
      "Requirement already satisfied: CFFI>=1.0 in /home/michal/anaconda3/lib/python3.9/site-packages (from sounddevice) (1.15.0)\n",
      "Requirement already satisfied: pycparser in /home/michal/anaconda3/lib/python3.9/site-packages (from CFFI>=1.0->sounddevice) (2.21)\n",
      "Requirement already satisfied: pocketsphinx in /home/michal/anaconda3/lib/python3.9/site-packages (5.0.1)\n",
      "Requirement already satisfied: sounddevice in /home/michal/anaconda3/lib/python3.9/site-packages (from pocketsphinx) (0.4.6)\n",
      "Requirement already satisfied: CFFI>=1.0 in /home/michal/anaconda3/lib/python3.9/site-packages (from sounddevice->pocketsphinx) (1.15.0)\n",
      "Requirement already satisfied: pycparser in /home/michal/anaconda3/lib/python3.9/site-packages (from CFFI>=1.0->sounddevice->pocketsphinx) (2.21)\n"
     ]
    }
   ],
   "source": [
    "! pip install SpeechRecognition\n",
    "! pip install sounddevice \n",
    "! pip install pocketsphinx\n",
    "\n",
    "# install also sound/recording libraries\n",
    "# sudo apt-get install libportaudio2\n",
    "# sudo apt-get install libasound-dev"
   ]
  },
  {
   "cell_type": "code",
   "execution_count": 2,
   "metadata": {},
   "outputs": [
    {
     "name": "stdout",
     "output_type": "stream",
     "text": [
      "Google Speech Recognition thinks you said 1234\n"
     ]
    }
   ],
   "source": [
    "import speech_recognition as sr\n",
    "\n",
    "# obtain path to \"english.wav\" in the same folder as this script\n",
    "from os import path\n",
    "AUDIO_FILE = \"english.wav\"\n",
    "\n",
    "# use the audio file as the audio source\n",
    "r = sr.Recognizer()\n",
    "with sr.AudioFile(AUDIO_FILE) as source:\n",
    "    audio = r.record(source)  # read the entire audio file\n",
    "\n",
    "# recognize speech using Google Speech Recognition\n",
    "try:\n",
    "    print(\"Google Speech Recognition recognized \" + r.recognize_google(audio))\n",
    "except sr.UnknownValueError:\n",
    "    print(\"Google Speech Recognition failed recognizing audio\")\n",
    "except sr.RequestError as e:\n",
    "    print(\"Recognition API failed {0}\".format(e))\n",
    "\n"
   ]
  },
  {
   "cell_type": "code",
   "execution_count": 3,
   "metadata": {},
   "outputs": [
    {
     "name": "stdout",
     "output_type": "stream",
     "text": [
      "Sphinx Speech Recognition thinks you said wong to read for\n"
     ]
    }
   ],
   "source": [
    "AUDIO_FILE = \"english.wav\"\n",
    "\n",
    "# use the audio file as the audio source\n",
    "r = sr.Recognizer()\n",
    "with sr.AudioFile(AUDIO_FILE) as source:\n",
    "    audio = r.record(source)  # read the entire audio file\n",
    "\n",
    "# recognize speech using Sphinx Speech Recognition\n",
    "try:\n",
    "    print(\"Sphinx Speech Recognition recognized\" + r.recognize_sphinx(audio))\n",
    "except sr.UnknownValueError:\n",
    "    print(\"Sphinx Speech Recognition failed recognizing audio\")\n",
    "except sr.RequestError as e:\n",
    "    print(\"Recognition API failed {0}\".format(e))"
   ]
  },
  {
   "cell_type": "code",
   "execution_count": 4,
   "metadata": {},
   "outputs": [
    {
     "name": "stdout",
     "output_type": "stream",
     "text": [
      "Recording Audio\n",
      "Audio recording complete , Play Audio\n",
      "Play Audio Complete\n",
      "Sphinx Speech Recognition thinks you said huh\n"
     ]
    }
   ],
   "source": [
    "import sounddevice as sd\n",
    "import soundfile as sf\n",
    "import numpy as np\n",
    "import scipy.io.wavfile as wav\n",
    "\n",
    "fs=44100\n",
    "duration = 5  # seconds\n",
    "myrecording = sd.rec(duration * fs, samplerate=fs, channels=2,dtype='float64')\n",
    "print(\"Recording Audio\")\n",
    "sd.wait()\n",
    "print(\"Audio recording complete , Play Audio\")\n",
    "sd.play(myrecording, fs)\n",
    "sd.wait()\n",
    "print(\"Play Audio Complete\")\n",
    "# recognize speech using Sphinx Speech Recognition\n",
    "\n",
    "filename = 'output.wav'\n",
    "\n",
    "sf.write(filename, myrecording, fs)\n",
    "with sr.AudioFile(filename) as source:\n",
    "    audio = r.record(source)  # read the entire audio file\n",
    "\n",
    "r = sr.Recognizer()\n",
    "\n",
    "try:\n",
    "    print(\"Sphinx Speech Recognition recognized\" + r.recognize_sphinx(audio))\n",
    "except sr.UnknownValueError:\n",
    "    print(\"Sphinx Speech Recognition failed recognizing audio\")\n",
    "except sr.RequestError as e:\n",
    "    print(\"Recognition API failed {0}\".format(e))"
   ]
  },
  {
   "cell_type": "code",
   "execution_count": null,
   "metadata": {},
   "outputs": [],
   "source": []
  },
  {
   "cell_type": "code",
   "execution_count": null,
   "metadata": {},
   "outputs": [],
   "source": []
  },
  {
   "cell_type": "code",
   "execution_count": null,
   "metadata": {},
   "outputs": [],
   "source": []
  }
 ],
 "metadata": {
  "kernelspec": {
   "display_name": "Python 3 (ipykernel)",
   "language": "python",
   "name": "python3"
  },
  "language_info": {
   "codemirror_mode": {
    "name": "ipython",
    "version": 3
   },
   "file_extension": ".py",
   "mimetype": "text/x-python",
   "name": "python",
   "nbconvert_exporter": "python",
   "pygments_lexer": "ipython3",
   "version": "3.9.12"
  }
 },
 "nbformat": 4,
 "nbformat_minor": 2
}
